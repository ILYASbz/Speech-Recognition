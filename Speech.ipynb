{
  "cells": [
    {
      "cell_type": "markdown",
      "metadata": {
        "id": "view-in-github",
        "colab_type": "text"
      },
      "source": [
        "<a href=\"https://colab.research.google.com/github/ILYASbz/Speech-Recognition/blob/main/Speech.ipynb\" target=\"_parent\"><img src=\"https://colab.research.google.com/assets/colab-badge.svg\" alt=\"Open In Colab\"/></a>"
      ]
    },
    {
      "cell_type": "code",
      "execution_count": null,
      "metadata": {
        "id": "vAo0Sd8mKT0M"
      },
      "outputs": [],
      "source": [
        "! pip install git+https://github.com/openai/whisper.git -q\n"
      ]
    },
    {
      "cell_type": "code",
      "execution_count": null,
      "metadata": {
        "id": "9SkrynabKb9n"
      },
      "outputs": [],
      "source": [
        "! pip install gradio -q\n"
      ]
    },
    {
      "cell_type": "code",
      "execution_count": null,
      "metadata": {
        "id": "b-HvxMUbL07j"
      },
      "outputs": [],
      "source": [
        "!pip install gTTS\n"
      ]
    },
    {
      "cell_type": "code",
      "execution_count": null,
      "metadata": {
        "id": "zYPWraF8L5gS"
      },
      "outputs": [],
      "source": [
        "!pip install bardapi"
      ]
    },
    {
      "cell_type": "code",
      "execution_count": null,
      "metadata": {
        "id": "4uqI0JK7L7cG"
      },
      "outputs": [],
      "source": [
        "import gradio as gr\n",
        "import whisper\n",
        "from gtts import gTTS\n",
        "import IPython.display as ipd\n",
        "from bardapi import Bard\n",
        "import os\n",
        "import re\n",
        "\n",
        "model = whisper.load_model(\"base\")\n",
        "\n",
        "def extract_arabic_text(paragraph):\n",
        "    lines = paragraph.split('\\n')\n",
        "    arabic_texts = []\n",
        "    for line in lines:\n",
        "        arabic_text = re.findall(r'[\\u0600-\\u06FF]+', line)\n",
        "        if arabic_text:\n",
        "            arabic_texts.append(' '.join(arabic_text))\n",
        "    return arabic_texts\n",
        "\n",
        "\n",
        "\n",
        "\n",
        "def transcribe(audio):\n",
        "    # load audio and pad/trim it to fit 30 seconds\n",
        "    audio = whisper.load_audio(audio)\n",
        "    audio = whisper.pad_or_trim(audio)\n",
        "\n",
        "    # make log-Mel spectrogram and move to the same device as the model\n",
        "    mel = whisper.log_mel_spectrogram(audio).to(model.device)\n",
        "\n",
        "    # detect the spoken language\n",
        "    _, probs = model.detect_language(mel)\n",
        "    print(f\"Detected language: {max(probs, key=probs.get)}\")\n",
        "\n",
        "    # decode the audio\n",
        "    options = whisper.DecodingOptions(fp16=False)\n",
        "    result = whisper.decode(model, mel, options)\n",
        "\n",
        "    # Join the elements of the result list to make it a single string\n",
        "    text = \"\".join(result.text)\n",
        "    print(text)\n",
        "    os.environ[\"_BARD_API_KEY\"] = \"YOUR_KEY\"\n",
        "    ar = f\"translate \\\" '{text}' \\\" to darija moroccan with arabic letters \"\n",
        "    at = Bard().get_answer(str(ar))['content']\n",
        "    generated_text2 = extract_arabic_text(at)\n",
        "    # Convert the list back to a string for gTTS\n",
        "    generated_text2 = generated_text2[0]\n",
        "    tts = gTTS(text=generated_text2, lang=\"ar\")\n",
        "    tts.save(\"darija_speech.mp3\")\n",
        "    ipd.display(ipd.Audio(\"darija_speech.mp3\"))\n",
        "    return generated_text2\n",
        "\n",
        "gr.Interface(\n",
        "    title='speech english to darija voice :) <3 ',\n",
        "    description=\"GALT LIK DIHA L WAD\",\n",
        "    fn=transcribe,\n",
        "    inputs=[\n",
        "        gr.inputs.Audio(source=\"microphone\", type=\"filepath\")\n",
        "    ],\n",
        "    outputs=[\n",
        "        \"textbox\"\n",
        "    ],\n",
        "    live=True).launch(debug=True)\n"
      ]
    },
    {
      "cell_type": "markdown",
      "metadata": {
        "id": "u9K9r4JAxLiG"
      },
      "source": []
    }
  ],
  "metadata": {
    "accelerator": "GPU",
    "colab": {
      "provenance": [],
      "authorship_tag": "ABX9TyNNP/HH+w2NZEv8LQCRTl/h",
      "include_colab_link": true
    },
    "kernelspec": {
      "display_name": "Python 3",
      "name": "python3"
    },
    "language_info": {
      "name": "python"
    }
  },
  "nbformat": 4,
  "nbformat_minor": 0
}