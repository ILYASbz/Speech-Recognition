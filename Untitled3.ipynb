{
  "cells": [
    {
      "cell_type": "markdown",
      "metadata": {
        "id": "view-in-github",
        "colab_type": "text"
      },
      "source": [
        "<a href=\"https://colab.research.google.com/github/ILYASbz/Speech-Recognition/blob/main/Untitled3.ipynb\" target=\"_parent\"><img src=\"https://colab.research.google.com/assets/colab-badge.svg\" alt=\"Open In Colab\"/></a>"
      ]
    },
    {
      "cell_type": "code",
      "execution_count": null,
      "metadata": {
        "id": "vAo0Sd8mKT0M",
        "colab": {
          "base_uri": "https://localhost:8080/"
        },
        "outputId": "56a469be-3f14-47af-c4fd-24a87a3811a8"
      },
      "outputs": [
        {
          "output_type": "stream",
          "name": "stdout",
          "text": [
            "  Installing build dependencies ... \u001b[?25l\u001b[?25hdone\n",
            "  Getting requirements to build wheel ... \u001b[?25l\u001b[?25hdone\n",
            "  Preparing metadata (pyproject.toml) ... \u001b[?25l\u001b[?25hdone\n",
            "\u001b[2K     \u001b[90m━━━━━━━━━━━━━━━━━━━━━━━━━━━━━━━━━━━━━━━━\u001b[0m \u001b[32m1.7/1.7 MB\u001b[0m \u001b[31m23.6 MB/s\u001b[0m eta \u001b[36m0:00:00\u001b[0m\n",
            "\u001b[?25h  Building wheel for openai-whisper (pyproject.toml) ... \u001b[?25l\u001b[?25hdone\n"
          ]
        }
      ],
      "source": [
        "! pip install git+https://github.com/openai/whisper.git -q\n"
      ]
    },
    {
      "cell_type": "code",
      "execution_count": null,
      "metadata": {
        "id": "9SkrynabKb9n",
        "colab": {
          "base_uri": "https://localhost:8080/"
        },
        "outputId": "447c6458-c643-400c-8199-c5150ddda1cb"
      },
      "outputs": [
        {
          "output_type": "stream",
          "name": "stdout",
          "text": [
            "\u001b[2K     \u001b[90m━━━━━━━━━━━━━━━━━━━━━━━━━━━━━━━━━━━━━━━━\u001b[0m \u001b[32m19.9/19.9 MB\u001b[0m \u001b[31m53.7 MB/s\u001b[0m eta \u001b[36m0:00:00\u001b[0m\n",
            "\u001b[2K     \u001b[90m━━━━━━━━━━━━━━━━━━━━━━━━━━━━━━━━━━━━━━━━\u001b[0m \u001b[32m65.8/65.8 kB\u001b[0m \u001b[31m8.2 MB/s\u001b[0m eta \u001b[36m0:00:00\u001b[0m\n",
            "\u001b[?25h  Preparing metadata (setup.py) ... \u001b[?25l\u001b[?25hdone\n",
            "\u001b[2K     \u001b[90m━━━━━━━━━━━━━━━━━━━━━━━━━━━━━━━━━━━━━━\u001b[0m \u001b[32m294.2/294.2 kB\u001b[0m \u001b[31m28.7 MB/s\u001b[0m eta \u001b[36m0:00:00\u001b[0m\n",
            "\u001b[2K     \u001b[90m━━━━━━━━━━━━━━━━━━━━━━━━━━━━━━━━━━━━━━━━\u001b[0m \u001b[32m75.4/75.4 kB\u001b[0m \u001b[31m10.0 MB/s\u001b[0m eta \u001b[36m0:00:00\u001b[0m\n",
            "\u001b[2K     \u001b[90m━━━━━━━━━━━━━━━━━━━━━━━━━━━━━━━━━━━━━━\u001b[0m \u001b[32m268.8/268.8 kB\u001b[0m \u001b[31m30.2 MB/s\u001b[0m eta \u001b[36m0:00:00\u001b[0m\n",
            "\u001b[2K     \u001b[90m━━━━━━━━━━━━━━━━━━━━━━━━━━━━━━━━━━━━━━━━\u001b[0m \u001b[32m50.5/50.5 kB\u001b[0m \u001b[31m6.3 MB/s\u001b[0m eta \u001b[36m0:00:00\u001b[0m\n",
            "\u001b[2K     \u001b[90m━━━━━━━━━━━━━━━━━━━━━━━━━━━━━━━━━━━━━━\u001b[0m \u001b[32m138.7/138.7 kB\u001b[0m \u001b[31m16.4 MB/s\u001b[0m eta \u001b[36m0:00:00\u001b[0m\n",
            "\u001b[2K     \u001b[90m━━━━━━━━━━━━━━━━━━━━━━━━━━━━━━━━━━━━━━━━\u001b[0m \u001b[32m45.7/45.7 kB\u001b[0m \u001b[31m5.7 MB/s\u001b[0m eta \u001b[36m0:00:00\u001b[0m\n",
            "\u001b[2K     \u001b[90m━━━━━━━━━━━━━━━━━━━━━━━━━━━━━━━━━━━━━━━━\u001b[0m \u001b[32m59.5/59.5 kB\u001b[0m \u001b[31m6.4 MB/s\u001b[0m eta \u001b[36m0:00:00\u001b[0m\n",
            "\u001b[2K     \u001b[90m━━━━━━━━━━━━━━━━━━━━━━━━━━━━━━━━━━━━━━\u001b[0m \u001b[32m129.9/129.9 kB\u001b[0m \u001b[31m16.4 MB/s\u001b[0m eta \u001b[36m0:00:00\u001b[0m\n",
            "\u001b[2K     \u001b[90m━━━━━━━━━━━━━━━━━━━━━━━━━━━━━━━━━━━━━━━━\u001b[0m \u001b[32m50.4/50.4 kB\u001b[0m \u001b[31m5.7 MB/s\u001b[0m eta \u001b[36m0:00:00\u001b[0m\n",
            "\u001b[2K     \u001b[90m━━━━━━━━━━━━━━━━━━━━━━━━━━━━━━━━━━━━━━━━\u001b[0m \u001b[32m46.5/46.5 kB\u001b[0m \u001b[31m5.7 MB/s\u001b[0m eta \u001b[36m0:00:00\u001b[0m\n",
            "\u001b[2K     \u001b[90m━━━━━━━━━━━━━━━━━━━━━━━━━━━━━━━━━━━━━━━━\u001b[0m \u001b[32m43.7/43.7 kB\u001b[0m \u001b[31m4.5 MB/s\u001b[0m eta \u001b[36m0:00:00\u001b[0m\n",
            "\u001b[2K     \u001b[90m━━━━━━━━━━━━━━━━━━━━━━━━━━━━━━━━━━━━━━━━\u001b[0m \u001b[32m41.0/41.0 kB\u001b[0m \u001b[31m4.5 MB/s\u001b[0m eta \u001b[36m0:00:00\u001b[0m\n",
            "\u001b[2K     \u001b[90m━━━━━━━━━━━━━━━━━━━━━━━━━━━━━━━━━━━━━━━━\u001b[0m \u001b[32m41.0/41.0 kB\u001b[0m \u001b[31m5.0 MB/s\u001b[0m eta \u001b[36m0:00:00\u001b[0m\n",
            "\u001b[2K     \u001b[90m━━━━━━━━━━━━━━━━━━━━━━━━━━━━━━━━━━━━━━━━\u001b[0m \u001b[32m87.5/87.5 kB\u001b[0m \u001b[31m7.0 MB/s\u001b[0m eta \u001b[36m0:00:00\u001b[0m\n",
            "\u001b[2K     \u001b[90m━━━━━━━━━━━━━━━━━━━━━━━━━━━━━━━━━━━━━━━━\u001b[0m \u001b[32m84.5/84.5 kB\u001b[0m \u001b[31m9.0 MB/s\u001b[0m eta \u001b[36m0:00:00\u001b[0m\n",
            "\u001b[2K     \u001b[90m━━━━━━━━━━━━━━━━━━━━━━━━━━━━━━━━━━━━━━━━\u001b[0m \u001b[32m58.3/58.3 kB\u001b[0m \u001b[31m5.1 MB/s\u001b[0m eta \u001b[36m0:00:00\u001b[0m\n",
            "\u001b[2K     \u001b[90m━━━━━━━━━━━━━━━━━━━━━━━━━━━━━━━━━━━━━━━━\u001b[0m \u001b[32m67.0/67.0 kB\u001b[0m \u001b[31m6.9 MB/s\u001b[0m eta \u001b[36m0:00:00\u001b[0m\n",
            "\u001b[2K     \u001b[90m━━━━━━━━━━━━━━━━━━━━━━━━━━━━━━━━━━━━━━━━\u001b[0m \u001b[32m74.5/74.5 kB\u001b[0m \u001b[31m8.8 MB/s\u001b[0m eta \u001b[36m0:00:00\u001b[0m\n",
            "\u001b[?25h  Building wheel for ffmpy (setup.py) ... \u001b[?25l\u001b[?25hdone\n"
          ]
        }
      ],
      "source": [
        "! pip install gradio -q\n"
      ]
    },
    {
      "cell_type": "code",
      "execution_count": null,
      "metadata": {
        "id": "b-HvxMUbL07j",
        "colab": {
          "base_uri": "https://localhost:8080/"
        },
        "outputId": "c59f48ad-7e29-4b15-9a38-ee5ee34bde20"
      },
      "outputs": [
        {
          "output_type": "stream",
          "name": "stdout",
          "text": [
            "Collecting gTTS\n",
            "  Downloading gTTS-2.3.2-py3-none-any.whl (28 kB)\n",
            "Requirement already satisfied: requests<3,>=2.27 in /usr/local/lib/python3.10/dist-packages (from gTTS) (2.27.1)\n",
            "Requirement already satisfied: click<8.2,>=7.1 in /usr/local/lib/python3.10/dist-packages (from gTTS) (8.1.6)\n",
            "Requirement already satisfied: urllib3<1.27,>=1.21.1 in /usr/local/lib/python3.10/dist-packages (from requests<3,>=2.27->gTTS) (1.26.16)\n",
            "Requirement already satisfied: certifi>=2017.4.17 in /usr/local/lib/python3.10/dist-packages (from requests<3,>=2.27->gTTS) (2023.7.22)\n",
            "Requirement already satisfied: charset-normalizer~=2.0.0 in /usr/local/lib/python3.10/dist-packages (from requests<3,>=2.27->gTTS) (2.0.12)\n",
            "Requirement already satisfied: idna<4,>=2.5 in /usr/local/lib/python3.10/dist-packages (from requests<3,>=2.27->gTTS) (3.4)\n",
            "Installing collected packages: gTTS\n",
            "Successfully installed gTTS-2.3.2\n"
          ]
        }
      ],
      "source": [
        "!pip install gTTS\n"
      ]
    },
    {
      "cell_type": "code",
      "execution_count": null,
      "metadata": {
        "id": "zYPWraF8L5gS",
        "colab": {
          "base_uri": "https://localhost:8080/"
        },
        "outputId": "c3d5f223-0eac-4b8c-cb94-11dc3fc9c5e9"
      },
      "outputs": [
        {
          "output_type": "stream",
          "name": "stdout",
          "text": [
            "Collecting bardapi\n",
            "  Downloading bardapi-0.1.30-py3-none-any.whl (25 kB)\n",
            "Requirement already satisfied: requests in /usr/local/lib/python3.10/dist-packages (from bardapi) (2.27.1)\n",
            "Collecting deep-translator (from bardapi)\n",
            "  Downloading deep_translator-1.11.4-py3-none-any.whl (42 kB)\n",
            "\u001b[2K     \u001b[90m━━━━━━━━━━━━━━━━━━━━━━━━━━━━━━━━━━━━━━━━\u001b[0m \u001b[32m42.3/42.3 kB\u001b[0m \u001b[31m1.7 MB/s\u001b[0m eta \u001b[36m0:00:00\u001b[0m\n",
            "\u001b[?25hCollecting colorama (from bardapi)\n",
            "  Downloading colorama-0.4.6-py2.py3-none-any.whl (25 kB)\n",
            "Requirement already satisfied: httpx[http2]>=0.20.0 in /usr/local/lib/python3.10/dist-packages (from bardapi) (0.24.1)\n",
            "Requirement already satisfied: google-cloud-translate in /usr/local/lib/python3.10/dist-packages (from bardapi) (3.11.2)\n",
            "Collecting browser-cookie3 (from bardapi)\n",
            "  Downloading browser_cookie3-0.19.1-py3-none-any.whl (14 kB)\n",
            "Requirement already satisfied: certifi in /usr/local/lib/python3.10/dist-packages (from httpx[http2]>=0.20.0->bardapi) (2023.7.22)\n",
            "Requirement already satisfied: httpcore<0.18.0,>=0.15.0 in /usr/local/lib/python3.10/dist-packages (from httpx[http2]>=0.20.0->bardapi) (0.17.3)\n",
            "Requirement already satisfied: idna in /usr/local/lib/python3.10/dist-packages (from httpx[http2]>=0.20.0->bardapi) (3.4)\n",
            "Requirement already satisfied: sniffio in /usr/local/lib/python3.10/dist-packages (from httpx[http2]>=0.20.0->bardapi) (1.3.0)\n",
            "Collecting h2<5,>=3 (from httpx[http2]>=0.20.0->bardapi)\n",
            "  Downloading h2-4.1.0-py3-none-any.whl (57 kB)\n",
            "\u001b[2K     \u001b[90m━━━━━━━━━━━━━━━━━━━━━━━━━━━━━━━━━━━━━━━━\u001b[0m \u001b[32m57.5/57.5 kB\u001b[0m \u001b[31m5.1 MB/s\u001b[0m eta \u001b[36m0:00:00\u001b[0m\n",
            "\u001b[?25hCollecting lz4 (from browser-cookie3->bardapi)\n",
            "  Downloading lz4-4.3.2-cp310-cp310-manylinux_2_17_x86_64.manylinux2014_x86_64.whl (1.3 MB)\n",
            "\u001b[2K     \u001b[90m━━━━━━━━━━━━━━━━━━━━━━━━━━━━━━━━━━━━━━━━\u001b[0m \u001b[32m1.3/1.3 MB\u001b[0m \u001b[31m38.4 MB/s\u001b[0m eta \u001b[36m0:00:00\u001b[0m\n",
            "\u001b[?25hCollecting pycryptodomex (from browser-cookie3->bardapi)\n",
            "  Downloading pycryptodomex-3.18.0-cp35-abi3-manylinux_2_17_x86_64.manylinux2014_x86_64.whl (2.1 MB)\n",
            "\u001b[2K     \u001b[90m━━━━━━━━━━━━━━━━━━━━━━━━━━━━━━━━━━━━━━━━\u001b[0m \u001b[32m2.1/2.1 MB\u001b[0m \u001b[31m77.0 MB/s\u001b[0m eta \u001b[36m0:00:00\u001b[0m\n",
            "\u001b[?25hRequirement already satisfied: jeepney in /usr/lib/python3/dist-packages (from browser-cookie3->bardapi) (0.7.1)\n",
            "Requirement already satisfied: beautifulsoup4<5.0.0,>=4.9.1 in /usr/local/lib/python3.10/dist-packages (from deep-translator->bardapi) (4.11.2)\n",
            "Requirement already satisfied: urllib3<1.27,>=1.21.1 in /usr/local/lib/python3.10/dist-packages (from requests->bardapi) (1.26.16)\n",
            "Requirement already satisfied: charset-normalizer~=2.0.0 in /usr/local/lib/python3.10/dist-packages (from requests->bardapi) (2.0.12)\n",
            "Requirement already satisfied: google-api-core[grpc]!=2.0.*,!=2.1.*,!=2.10.*,!=2.2.*,!=2.3.*,!=2.4.*,!=2.5.*,!=2.6.*,!=2.7.*,!=2.8.*,!=2.9.*,<3.0.0dev,>=1.34.0 in /usr/local/lib/python3.10/dist-packages (from google-cloud-translate->bardapi) (2.11.1)\n",
            "Requirement already satisfied: google-cloud-core<3.0.0dev,>=1.3.0 in /usr/local/lib/python3.10/dist-packages (from google-cloud-translate->bardapi) (2.3.3)\n",
            "Requirement already satisfied: proto-plus<2.0.0dev,>=1.22.0 in /usr/local/lib/python3.10/dist-packages (from google-cloud-translate->bardapi) (1.22.3)\n",
            "Requirement already satisfied: protobuf!=3.20.0,!=3.20.1,!=4.21.0,!=4.21.1,!=4.21.2,!=4.21.3,!=4.21.4,!=4.21.5,<5.0.0dev,>=3.19.5 in /usr/local/lib/python3.10/dist-packages (from google-cloud-translate->bardapi) (3.20.3)\n",
            "Requirement already satisfied: soupsieve>1.2 in /usr/local/lib/python3.10/dist-packages (from beautifulsoup4<5.0.0,>=4.9.1->deep-translator->bardapi) (2.4.1)\n",
            "Requirement already satisfied: googleapis-common-protos<2.0.dev0,>=1.56.2 in /usr/local/lib/python3.10/dist-packages (from google-api-core[grpc]!=2.0.*,!=2.1.*,!=2.10.*,!=2.2.*,!=2.3.*,!=2.4.*,!=2.5.*,!=2.6.*,!=2.7.*,!=2.8.*,!=2.9.*,<3.0.0dev,>=1.34.0->google-cloud-translate->bardapi) (1.59.1)\n",
            "Requirement already satisfied: google-auth<3.0.dev0,>=2.14.1 in /usr/local/lib/python3.10/dist-packages (from google-api-core[grpc]!=2.0.*,!=2.1.*,!=2.10.*,!=2.2.*,!=2.3.*,!=2.4.*,!=2.5.*,!=2.6.*,!=2.7.*,!=2.8.*,!=2.9.*,<3.0.0dev,>=1.34.0->google-cloud-translate->bardapi) (2.17.3)\n",
            "Requirement already satisfied: grpcio<2.0dev,>=1.33.2 in /usr/local/lib/python3.10/dist-packages (from google-api-core[grpc]!=2.0.*,!=2.1.*,!=2.10.*,!=2.2.*,!=2.3.*,!=2.4.*,!=2.5.*,!=2.6.*,!=2.7.*,!=2.8.*,!=2.9.*,<3.0.0dev,>=1.34.0->google-cloud-translate->bardapi) (1.56.2)\n",
            "Requirement already satisfied: grpcio-status<2.0.dev0,>=1.33.2 in /usr/local/lib/python3.10/dist-packages (from google-api-core[grpc]!=2.0.*,!=2.1.*,!=2.10.*,!=2.2.*,!=2.3.*,!=2.4.*,!=2.5.*,!=2.6.*,!=2.7.*,!=2.8.*,!=2.9.*,<3.0.0dev,>=1.34.0->google-cloud-translate->bardapi) (1.48.2)\n",
            "Collecting hyperframe<7,>=6.0 (from h2<5,>=3->httpx[http2]>=0.20.0->bardapi)\n",
            "  Downloading hyperframe-6.0.1-py3-none-any.whl (12 kB)\n",
            "Collecting hpack<5,>=4.0 (from h2<5,>=3->httpx[http2]>=0.20.0->bardapi)\n",
            "  Downloading hpack-4.0.0-py3-none-any.whl (32 kB)\n",
            "Requirement already satisfied: h11<0.15,>=0.13 in /usr/local/lib/python3.10/dist-packages (from httpcore<0.18.0,>=0.15.0->httpx[http2]>=0.20.0->bardapi) (0.14.0)\n",
            "Requirement already satisfied: anyio<5.0,>=3.0 in /usr/local/lib/python3.10/dist-packages (from httpcore<0.18.0,>=0.15.0->httpx[http2]>=0.20.0->bardapi) (3.7.1)\n",
            "Requirement already satisfied: exceptiongroup in /usr/local/lib/python3.10/dist-packages (from anyio<5.0,>=3.0->httpcore<0.18.0,>=0.15.0->httpx[http2]>=0.20.0->bardapi) (1.1.2)\n",
            "Requirement already satisfied: cachetools<6.0,>=2.0.0 in /usr/local/lib/python3.10/dist-packages (from google-auth<3.0.dev0,>=2.14.1->google-api-core[grpc]!=2.0.*,!=2.1.*,!=2.10.*,!=2.2.*,!=2.3.*,!=2.4.*,!=2.5.*,!=2.6.*,!=2.7.*,!=2.8.*,!=2.9.*,<3.0.0dev,>=1.34.0->google-cloud-translate->bardapi) (5.3.1)\n",
            "Requirement already satisfied: pyasn1-modules>=0.2.1 in /usr/local/lib/python3.10/dist-packages (from google-auth<3.0.dev0,>=2.14.1->google-api-core[grpc]!=2.0.*,!=2.1.*,!=2.10.*,!=2.2.*,!=2.3.*,!=2.4.*,!=2.5.*,!=2.6.*,!=2.7.*,!=2.8.*,!=2.9.*,<3.0.0dev,>=1.34.0->google-cloud-translate->bardapi) (0.3.0)\n",
            "Requirement already satisfied: six>=1.9.0 in /usr/local/lib/python3.10/dist-packages (from google-auth<3.0.dev0,>=2.14.1->google-api-core[grpc]!=2.0.*,!=2.1.*,!=2.10.*,!=2.2.*,!=2.3.*,!=2.4.*,!=2.5.*,!=2.6.*,!=2.7.*,!=2.8.*,!=2.9.*,<3.0.0dev,>=1.34.0->google-cloud-translate->bardapi) (1.16.0)\n",
            "Requirement already satisfied: rsa<5,>=3.1.4 in /usr/local/lib/python3.10/dist-packages (from google-auth<3.0.dev0,>=2.14.1->google-api-core[grpc]!=2.0.*,!=2.1.*,!=2.10.*,!=2.2.*,!=2.3.*,!=2.4.*,!=2.5.*,!=2.6.*,!=2.7.*,!=2.8.*,!=2.9.*,<3.0.0dev,>=1.34.0->google-cloud-translate->bardapi) (4.9)\n",
            "Requirement already satisfied: pyasn1<0.6.0,>=0.4.6 in /usr/local/lib/python3.10/dist-packages (from pyasn1-modules>=0.2.1->google-auth<3.0.dev0,>=2.14.1->google-api-core[grpc]!=2.0.*,!=2.1.*,!=2.10.*,!=2.2.*,!=2.3.*,!=2.4.*,!=2.5.*,!=2.6.*,!=2.7.*,!=2.8.*,!=2.9.*,<3.0.0dev,>=1.34.0->google-cloud-translate->bardapi) (0.5.0)\n",
            "Installing collected packages: pycryptodomex, lz4, hyperframe, hpack, colorama, h2, deep-translator, browser-cookie3, bardapi\n",
            "Successfully installed bardapi-0.1.30 browser-cookie3-0.19.1 colorama-0.4.6 deep-translator-1.11.4 h2-4.1.0 hpack-4.0.0 hyperframe-6.0.1 lz4-4.3.2 pycryptodomex-3.18.0\n"
          ]
        }
      ],
      "source": [
        "!pip install bardapi"
      ]
    },
    {
      "cell_type": "code",
      "execution_count": null,
      "metadata": {
        "colab": {
          "base_uri": "https://localhost:8080/",
          "height": 834
        },
        "id": "4uqI0JK7L7cG",
        "outputId": "01583ffe-e16e-4074-ac1f-8f21f36ab18e"
      },
      "outputs": [
        {
          "output_type": "stream",
          "name": "stderr",
          "text": [
            "<ipython-input-8-5d27f89fd8fe>:58: GradioDeprecationWarning: Usage of gradio.inputs is deprecated, and will not be supported in the future, please import your component from gradio.components\n",
            "  gr.inputs.Audio(source=\"microphone\", type=\"filepath\")\n",
            "<ipython-input-8-5d27f89fd8fe>:58: GradioDeprecationWarning: `optional` parameter is deprecated, and it has no effect\n",
            "  gr.inputs.Audio(source=\"microphone\", type=\"filepath\")\n"
          ]
        },
        {
          "output_type": "stream",
          "name": "stdout",
          "text": [
            "Colab notebook detected. This cell will run indefinitely so that you can see errors and logs. To turn off, set debug=False in launch().\n",
            "Note: opening Chrome Inspector may crash demo inside Colab notebooks.\n",
            "\n",
            "To create a public link, set `share=True` in `launch()`.\n"
          ]
        },
        {
          "output_type": "display_data",
          "data": {
            "text/plain": [
              "<IPython.core.display.Javascript object>"
            ],
            "application/javascript": [
              "(async (port, path, width, height, cache, element) => {\n",
              "                        if (!google.colab.kernel.accessAllowed && !cache) {\n",
              "                            return;\n",
              "                        }\n",
              "                        element.appendChild(document.createTextNode(''));\n",
              "                        const url = await google.colab.kernel.proxyPort(port, {cache});\n",
              "\n",
              "                        const external_link = document.createElement('div');\n",
              "                        external_link.innerHTML = `\n",
              "                            <div style=\"font-family: monospace; margin-bottom: 0.5rem\">\n",
              "                                Running on <a href=${new URL(path, url).toString()} target=\"_blank\">\n",
              "                                    https://localhost:${port}${path}\n",
              "                                </a>\n",
              "                            </div>\n",
              "                        `;\n",
              "                        element.appendChild(external_link);\n",
              "\n",
              "                        const iframe = document.createElement('iframe');\n",
              "                        iframe.src = new URL(path, url).toString();\n",
              "                        iframe.height = height;\n",
              "                        iframe.allow = \"autoplay; camera; microphone; clipboard-read; clipboard-write;\"\n",
              "                        iframe.width = width;\n",
              "                        iframe.style.border = 0;\n",
              "                        element.appendChild(iframe);\n",
              "                    })(7860, \"/\", \"100%\", 500, false, window.element)"
            ]
          },
          "metadata": {}
        },
        {
          "output_type": "stream",
          "name": "stderr",
          "text": [
            "/usr/local/lib/python3.10/dist-packages/gradio/processing_utils.py:188: UserWarning: Trying to convert audio automatically from int32 to 16-bit int format.\n",
            "  warnings.warn(warning.format(data.dtype))\n"
          ]
        },
        {
          "output_type": "stream",
          "name": "stdout",
          "text": [
            "Detected language: en\n",
            "What is the name of this town?\n"
          ]
        },
        {
          "output_type": "display_data",
          "data": {
            "text/plain": [
              "<IPython.lib.display.Audio object>"
            ],
            "text/html": [
              "\n",
              "                <audio  controls=\"controls\" >\n",
              "                    <source src=\"data:audio/mpeg;base64,//NExAAAAANIAUAAAP8BHQXMPCEn+0+hUeWE/43L8If4odxwDCnkI2LsT5GOdysOERb+r8HFXO5P87tzzPN/+34kw0yVV+GPiESB5RUIf/n+aCkWPi4MTkkB4ObZcLJ9//NExFMSOcpEAZgoAAq3b2cSOfs3f7+/4IGKzz+whNKEdvzro0bYUCh629LhtpjzR7k0oL1EqAcDZtJAgYhIUGMsjbpBJAgxG/rvRoxXKKTH/6jEIo5yR7ORAY/gsghD//NExF0g8w50AcxIATb2Fo6ysmkxBRiFvQEZtuE1M1Rj/JyUhCH9Q+/3O57/SDOvsIKQngx627tbb/X/V77N3nPCEqNdis6odXLBr7r/hxZzP7fH36bZy/r3D+B3AQEQ//NExCwb8uqkABCYubGHB7GwoX2RP9C87A4s1Y8xVMsrx2f+45fb+cRUPGO+kJ+vZXRYnXOtvMOLKcvVzl52+VX2WX+ixZ38xY87Nfj6tdwi/////sK/a42yDO0jpH87//NExA8UAsLAAABQucTCNKUru+0wUYLsHoKBd8UHkqtJcs4+LLKqDCVOSFIvh0EcdCs6nwQiqkicmLMVy3KTqK+sYjNcEjnjAeLAwrPW/////gm8DVe8ljrLIGsgyps1//NExBIUktrMAABQuaXpqMJBwVaR4sHY8gIEEA96KEYlB9m2QOWkgZaVQ52ZN1IQw7oajI6KzoTFxiqzFMSm0070N6ltmtdh4z358Oaq////+zOaf5F2MrmCTbsWOYya//NExBIV2s7MAABQufzYdRYeRQHjyg/liXBwa4UVyw/RiSEGHNYw5Bl0z29oNKW3HClqYfMZLMk1Q84kc6DkUWMQmpPpkcqEPiBg5Q74a/DuP5X/L//n+VAFlXvlU5F+//NExA0T8srIAABMuJH0yE0c31GjmYwFOgDC5ZJzaDoooKHpHY8JeiRv6eYVn6S88Y0vWMi1PzIp2JacZM7Zu4VkX/XyqhphOTx4IRK1yan43EwSD5jH1/////+KtEZy//NExBAReerIADhGmdmUP+frLR1lOZlmTBRmUCYCoEFEsGDidxm2NSa/0bU9Kb0GOgqgvw1dHME0VtiotLnM///b+P5+8ZkcsIHr4kMrn+TcqAqdA4X1kr+nzf//K9QU//NExB0RGYa4AMFMlERRtMmTQunyDCsRc021fs3Tb7n+1pHj0gYCr4r///ShYEaxEUcrtXX89cyqknBO3e3H5Fg9aLBvUTBlvUOb1Lt8m/w/ibiDql9ySB2UdurKGnHz//NExCsSoa6wAMnWlLpBliyNseaM498XP0xF/dcobYt///lIofZlOx1LlW6l53vO2AqIA5uB6eV5bxUFJegO3+K3+xD8n/n/NQDwCZ/cjFJPtODjj5jw6cz+llKv9Ur4//NExDMQaZq0ANHQlGUYOSJQ0z///6n6+3U8qsu9wziAqufZDz23FwyzLrBI2sECfxSM+rjHmKXdG55BNlnUw7H0a3mhTTVUyjZaCDoqKLL1Trft+a87///o53X26Hae//NExEQRIZqwAMnalKrDv6qMbMrxMyPa837s0qsGGDZMXfx1Ion18Xpdscv9TJArXsUHK1EowOiL6sw0PamoiA6Ovi8lirvLf+d///6c89d/7+u9y9Ru4guck3geGSZj//NExFIRQSaoANPQcAOA7S5QlhIua+MB3mxg9PdU9Zl0LfwZ81G+lWof////////////+Q5jSoZHvVwhTdxMmtWiqYTUEkIEMJyQ1WC2IP2MgPKAi1TqP5ZvnkD6KciA//NExGAQKqaQANlEuSCYuTUKAj2VgcmqGOnZBdJ3lJ1UqN/////9f//////+lqmWhyMXRw6i0lMKpNV7FOyAxlMOtZBoMY0qB/puEt0NL3nrYZ01l2lYLGV76dPRbbnX//NExHISmq6QAOFEuKKLHPcpOjLGPv75SEPMqSBeGkhEcLGj9X+7o///+bWp4wYscs1DttSqgwsP1a3P/cwwsxDc4gJfUppOV6ZhoCdvOZl80TLCMCwGEJQ8PgT4E6AK//NExHoUyPKUAN4McMLMtWbaJql3pF5F+kiySCH/TMhP//+3////////9q2/VHKVINDbhiL4wYAqVbE5T97MQWIAh9nMFz0gr00MLnMw0jR8nRzDRIWUBloGNwyIQQvE//NExHkUkq6cANNEuFDAmBlgwuX3pVsRC7vacf1VlxDV3/Mrf3/Q/0RLerE///6///2Mr13p2IdpSFVyKcGUl3ZjGUcpm2GZ12expH1LAMcuNLIgaOP3WhENheAELJG1//NExHkX8vqQANTEue1O3ZOIhCcStrb0bcH4rytflJZ3fvd7HL9/Le9EUC5ySoNb638gMj/UnX+Ukxjiz7//ob//OX3RKXCpMJPCoPzQBHw4xv/yaxrIdzKSRBVdb7yd//NExGwXOZ6MAN6ElNyzQodAasu2l25cHtUIQFgPjmiGxMTHxFL5mIZOERFSYw6+s69zwM7kXf9Ndp0Omf////xR9DjT+ZFTy1a2P2OG2NiaBxmMlGVCF8GXp1vjp2GU//NExGISwK6QANYYTLvXYpxCWOlsa0MSYUvWcqytOj9x7knXYqppBAbDxxqR8BhU2Hyn//+7/////pvTp7EZrRv1UhQIZXSyZK4AFwwa3WgXknI4cTgKJ2JVQxizI295//NExGoReL6QAH6YTDxYS88Vt30WE/ZV0K4rZF7uTG3qtuh7kl3Z/PretR83jwoNvFjVy/Bl4wEGvoS7ctY4gpEoNu5BBDU7nJeai0PhlgREbyjnt4nVmZj1DLC2hFGR//NExHcbUTaYAVp4ACxQjDoOFS9kUrYlTOpZkRotNrj0VdIOdKXXY2k0d8Oe4pedliBmfWvi2vche1x5bdZKj//uvn4niv+H3fHxsn+tBVWUG//yzb2973fPPb5YmocQ//NExFwgoyqoAZpYACW5pwzDxX2+F2bY4S8/Kz5N17d1TK8BAliiMgRCBKHAmAll4g0jJTNRDhAXKZ3aU8/rSyt6dd/9f8T8z8fX3f///f/1f///383188/6zLOrN1+///NExCwbUxK4AcVAAQlwOVyhrM55FiODVlcOAnIGpQqcQHohsLqJUECBQU0QPrGiECwCghCMQBIIckBURlBuHYiA8IpJ1niEDoiUWQ5mlf3/X/L/n/z5//////////2f//NExBERsx7EAAhKvO1vZ9uxEERxSqUrD9EEh4kLiIfFniBBIYxGYaUVc4fRBpDw6A6BZiMJiYYUaQMDwcEhgk4mPf+X//bv//r/mX////////t+pcxCI3dKrck5E0HK//NExB0Qoxa8AAhKuWQOlMtlOyD1OLuiqcRFHKPOZ6sFEYqqNGB0OAhgOHgkUYAwwWi1N/n9A/WX7/l/nz9cv///2/v/2VkfI+m9KVRClfOmZSRKZDkFlkdg6RZhZHIU//NExC0Qqxq4AAhKvIcsrEMIshrC6jGMFjkzBJkGhwZKKVIHIEY890R2/kUyEcT5n6OZ4Sn/8Pt3taidfr+/9eZ65XKxjNll6lYuZ0KWVvR81O+kxkqUqzGMVDGQylLQ//NExD0RSw6oABBKucLGNLzGAYPTVYOl9EwQ3P89YuE2oKZ3EInNiIjna8kEvsXL49ovSwokPpG6BjNjNjP4gjAxxgoRe46FFA0e93WzKlQE+rySfrb9DQVZE+Kt9/yK//NExEoSaOqEANJGcKCBHpHAAYEfpxJLKrxKgesmNKnLCAUiJ/8BQx8tEZlNIQG/OBQSmmiclzG5janjdKuVfo2ZLtJu//////kFhIIkBCPWxC8x65TTQymkYCO4S+BY//NExFMSASaEAOJOcALjUpCCysDw9UuPAlBlg4WCpbFYbLZQSCWUDjVqcbx/qTbmu2QL9G4IuocU3b///////////p506tRCLQwcUTqkvSx9igEHQhCnE/MoBolKA3OO//NExF4SoraMAOHEudWgBshDLaOJAsQ/3uNby1avtQoX6luYS3P9CXQXdDdBxUx8EVq//////63qPLAwVpVVtxF9k0TLzc5QLXVGVZQUYjQNGYkW4CcsRytTak7lrVJR//NExGYRCS6QAOPOcOP/+WX6IBVNBc9s799z+2mmiTjwRaXIwuNC3//////WlrXDD7zqFZRTxBc5p3mYwBxDIZFwM3MWmEyztBGgZVGxEUGnL2xuOBFu9+x3/7i0IBGN//NExHQR0O6UAN4McCP1Ly8E8xDgLGgaLiJgePf//////UhoDaAjIeY7/rXDOkR3M3hiYLpI+BSsMJq8NMECJSAcrBAVA90wFcKuouNpmrUy90H1I9NHWl0Enu23k5P///NExH8SoPqMAN5EcP///////////0vuiynRCCnMncWURSLggAOYOUCULj5iBzDkioRCaBYGCvaQIwbUrUJSOAQFh4pFiP38TX73K32Rah6Q1O39X/4Y/////yzzbQgH//NExIcRorKQANzEuVSGXWeEdTjiSFEaQxYxkgbyNL7BtoDtfqAFkIjSduTgGQKGNWKhgXteB0I3FFB4f7qKW5yb7UE7gGvA4DHh6q2LhH/1lUUdn//+NLtGknpcoNli//NExJMQOJKMAN6eTMWB9AAFarzzOwhUdaOK+flQ0HDsavS0HBEiv0489EnHd960IXfWgzxnU/PzS0ohDdIn8nIQsTALQIYGAXBkV8/p8eB91kr/97vH3rMseefaCcQX//NExKUV0KKAAN5wTHZPrADTw38YGP/+utaQmOMINBIJLC54UICpGpRVoCoLJ50df5pE7E7UhlDyTe7jU6oQPgHyqBcAyFU2HCfcZjalwywjuSqgLuSgmZ0RUJHko7QV//NExKAZ4R6AAN4ecLhQ9qyK81pjf53E9pYWVIwQjKx7nRls2dXra5bIrurMhmV0b3GMcrs3v2/b//9XV6ai1c4kh0ePaenm//nCvNFgMjPl96NU+N/BRb05q+9CSI6h//NExIsdOraEANPEueJwgLA4a/Lt2UC8CchPkTkwYACJGpqIZyhE3NXdlqc/4za6bqAQAOLT6etcsKK8UctCLObXs+qpIwo5XTRRWUXt/rdz0CNTuoKfzHfexb0dkYog//NExGkVYSKYAMsScE4BDylzlBmOa+OKtrtVkgNEoJZN68E5S5aZhJ6NpM5n5nA4GE70VGADT7nf1ro90Cf9SGhhC0W1bmtS3rdQZsVgiuGEdkG7TGRZlt4k3dOA+J7q//NExGYTeSqgAMJMcK3+29A03tUOIQBQBGABGICUELMiAIGSglAwWMFntQxln0uu/t9Fbv/X7U/66t8ysirDfNqVjsyqq2/9CZAErkS84HW+mKRvbWs4ncACTO0XKQoD//NExGsREO6oAMpGcAICEiA4VVOKFJQhwGjgLKh1P/9v/////Q1CGvJx1df+LhCvysFnLKZQqZbQ4JGwTjN5U6M0x9d7DPxUZ+LiN0kB77PhT4iRJIw+mLjJxEke8uYn//NExHkQ2QasAMMGcFSTLQDCyH/8tb////RsSfNUhI9pufzOQIAicSfwuQWIlW3/9QCKXc2n38NCTpDaz+POz/MclG/pXI0XqPFw62KnWJMc5+Uz8ySP2GI6Kj0kx0Sb//NExIgSQS6sAMvMcHTms9////60QKXhu0CaMypfWDQaBKQV1OiKePTnM9TSqw8C3zkdWFbzv5TT7U//5NEm/xQhSOSIhMA75VKSWZxzLYWHB1uc37//////yEVJVFxp//NExJITmTaoAM4WcDUq5/5WBGmLo1rMpftcoLsiieJQLJA+qSU3HLHbXQIYVuODQjqPiWErOOCIHAFOixEI9h9vTnuUmJmtH/////+zO2PaaeSTNKpqx1VgIxJj+zBW//NExJYRMOKsAKYScC60AozggQ52geUSI2IoW5wj4lestfiFDi4xk6mx6ItcseFUFaFQVcoGnpxLh07Knv////+lJ6El+rhIeWApKkMVDUtgQWT2deMhAoxWCH/BIlOh//NExKQR0SasAMyOcJQ5DwTXCQ5ALBz7PfZiT/RrSayVwiRikUwrY1KKQiabMEWlWek9+P4sj///f///T/6/onrjUYLATOADUmLKC8iEgSXPGgGuxRkSwoedcXeG9Rud//NExK8R4MakAMvMcLNvE1nMN+uMcBpXRCJt2yzM2Dwh+5PQwXEFI4HwscX1f////EH/sTrRVZYy5urLDHxD+FGvuhAIJzkcciIMjtEAUxod1sMiuB0RGJyOQ6GWsAn5//NExLoRsMJoAOZSTC/PgF/QuLMhxeFGzJ1RBgMHY1Yc6Hu7xYjhaLRqpEzqP64FTBwXYPgIHGoKEV3/fqfkJVT7qe3v///9bWEEXIKHY5xeznOqEDjHHqYPiwod6IdB//NExMYSaPJ8AOPMcAVbk8cMRqDuETGBoXBHElqaogKyqDPy16GkPzESB1aOUzgbK3Xrw2UvfbaYDhrLabSEXophNjI8A7gqTTX30E8STu8TWZIm8K6JvOZW54aopEgn//NExM8get6QANPKuRMBwDw2Sc4wvVWfRGtRr1dndTHOpP////TuYjqy59D6PdjGYcSNR4giElH5xw6cjEEMFEMm0gzWNyOkLBFuBoneZicmt/nk3EGSz1vc03JNefy1//NExKAhAuKYANvOuZP9F//VexSFAIiQzoaFLpQUgUEBjXB9VEo/dx6rR7woxSpCQfhV99bO7N///9lVEedaIoeEdaSxKtfXwaWeFYyfbroyASkmeLjl4BbQRAVUEURG//NExG8VITaoAMZQcANN7jVFG1Rld/WUSeFb7bimpryj+ZI0+2pU3+Nqa+7bhT/F8xWNwjvrSx8A6aMi9oKSxoe51dgjp//6jwxmvInhEeFwCblq1auVZWewkhAUu6H1//NExG0YIT6cANSecOQ8FGyBTtxW5DLNsiRtG8Rd9Xexb49tyaxl6Ztt65fTQxS44S6ktqSXuU16Q9T6Sah2geBcSePBJJ80Z8xdepN6KJy28zfVUFz3/7Y4bR8uXQBr//NExF8YkZaMANvalIX7o2q9fxjSmJ88sRAFuWWoENiAX83rbs0adi+Hp2dY/V6A8WzMQ481pyYCcntjP1L9jZNTJibH6RmCfhJSgmpEneo+z1IPQTMx7PVMtVZ566n///NExE8YKtaMANtauOtv////vW///To1HDExNbr/VbmUw+4IHxzothBUVe3jumAwKJCEfNoBx/UB7dTyLp+U/8P43F0taGQI1XT2/w6/mnf2idqJJpq5Kwkos8WBoOdW//NExEESKSaQAOIWcL/////6IiDqZrZkbQDBEPDos2wUO6Zj7qNmAgjtlAsagmBaajwXEPDa8Un2uoPAbury3/RP/wh95Sff6rHiMX//2t////jdYytuL/6UVZbei67D//NExEsRSQaAAOnWcAGLz/04MIghGF14uIAqsAABZWEMLv+EP8ByC8/3FwJmeMAPDrP+4+/+T1X6Nze08yAUyH/6rf//0fv5O3VN/2pVx7DEpZgcHpG+EQYKOmsR5UJI//NExFgRUP6AAOIWcOwAiAuMGExoCY/56wwMH4VeMLGAVDwGwTbbDZPPbUKEkZzT4kDAL1iBTsYGP/v/////+xLf4xJsqlBx5AqB3pbDEqaUXLfm3euVXhCGR6zn+rbz//NExGUReNaYANsScNPuzjiw4i5evVKeB1w4L221GLYhES+Pmfe/mFW9P8XgUpqksCWOflAB9tj/////3PoU7ZRV6zhHh6AO0EELhkf24IKpFM/5gsEDh0/d7xmZyf////NExHIUyTaoAM4ecNqNfw4qJZ/2wbhYnxw2lzSu/On3+6zVa1Gwq2tmZMaf////pZblAgif6X61/f51ILQaPMZ7cKnveAtXIc8GwKU2f3Hl9ZJN7y31l4LKiz1k37mL//NExHESYSqsAKYWcPo4Gb5G+n////////f9U+pvVSP82lkMO3ZlFK2q1rOWGcQC6IU2O0pXUxHad2QqAqK5axDkDiSpZVZW8xWNlQM7sYGJAhRb4YV7Ib0NKzrf//////NExHoROuasAMNKuP///////00dSgLrQ1rCT5XLBqpnMubipkFgbMpZBOCAkZWrbA0VMAgFEzUuuxJrEvpcbO31jPN95yl5rJC/MUAxhKVRNAQXTJKt//////+zzw5P//NExIgR0oagAMiEuPiz2aKDYtba4Sh429QTTw5AQMceGC4AVADB9ULvwFUCCYoYmZF7GXGbBafiU8esv0393/fvfd7FZf/ftr3d6zQ7x//X6Le/Fc3y8373vwmnFPFz//NExJMQ8M5sAO4GcGk++k2ou1C7o+WfljBwppg4HoLyFDwafAcB4HBo8PyEFFYwu8gc8U5Z+iCgpRBlVcH+ykVIetgXBuYy5ry9KWlu0l/3GOxxrCNiMzMTZlejdjvk//NExKIfixp8AOGQvNHKMWMIpGajIzs7B8KO7rOZPfPdPfO7TfzO7v3mG8pFs/NGJmZow7m/OdW9KRyxVuPKfVZZO9yy1W4vL4lAiTqIqMuJIHWyuOBAEdhMYpltpVuF//NExHYgex6QANFYvLcehWIbCK3YtY3mbMOWoovsxXEiNWJ/iciZuX/nT3+VfO/T9v+n2ujmcg6q+9u1wR6NRLry+fWuy97//Z0zfb1ZHbqVuKArijGlKUSVlAQEiEjw//NExEcSwq6gANCEuIks9Bu9WuvUOApmdwmdYtvQDCB1bOGo/Hu5AEFthA3U3Qj9F925+1dBeBBYbV8iMLWGCAwXcphccbZSUzWd0MzLdV//X//7/++iOzocJCiXG0IO//NExE8VAqqcANlKuLFOqy2Y+5St2BAQdEVp4wq2jIgHilr4gASbqTap5M3////10nIYa4cC496o06Iyi7qZCCZMRhAJoWx4on///9sJg2dAD3v/XUyq+rQFUE98w+Fx//NExE4RMV6kANnKlLNEA0SlLqtAziDzPYU9SGQgtv/9m/+mZkQ4EOOGXVbqY0xTFEyCUEVnmKVc57f///qdHyRtH8nEbSXVeICNs+i0NcEEZrgNhg66CgHk66qDJOgg//NExFwQuVKkAMiKlGyLmaX/9dP7IQ6HIJFiigLKSYpVaM4EUCLKe5T39glDy0f//0uvnSgOwl/6EKWmgEw+sIGMkZOHGS7bR5WSjQBomIBIthW5EdkBNnd+2vRWna4k//NExGwReUagAMtEcGM40CiphtJ6Do8RHhKd//M///8YeCawxGl0PEr2/jD0lYcoEbzIOEwkJU0Z+ZKtKSwfgCAUL48D95dQFoVmiDba6F0WceL5xVmVGqyyGy6keRn///NExHkRqQKUANKKcP///13V///////ZKIig1rCmwFAkANTqpImVAA0aKKxFfI4ACXqhY5BedA1OMI4mZ5XUse2s7i67/O/j77tQMWJsoQQLOSpogeriv//////htQ40//NExIUSGn6EANlEuUw8EwYBtVXG7HDhu2nQ2BHgiDwicVs98ZogEdTC0QYZIEplrnpEZ4E2Id6bTIDzqto6jwFfmwiFj05bsyveZYcpX5xu+22TxxrAGlyej9UU///2//NExI8QiMaIANvGcKJQSA+gDFC5PJ3bl7Uq3lHTSkm5IWMoCkdOuumyLOatUmBSy8HMs2kPrOD5/utbu86UfAw/A8s86Rjk10W89Kkk8p395abXmc25X//d///GrljZ//NExJ8WWS6QANPYcCnTiVfr7i2IE42pQF4hZiu8bcr9gvYfFPPDcUgcS0ip3pcXpV3+vK4KE8oHU4lDVGmPJVdunaVpxVTZjG//67P///+tgUegXWSbGa5/NCEs8Zmp//NExJgSgSqcAMvScDTDBTDoV3hilgcz8BPKqGhrLoKKXj/SgnOctjipg8LhsCiUoFGg0BRK5pYOhI7///X////Dq3MAqjxXbpolCi9Rlz+GiAKMCsFMMHTDAUsqLkzu//NExKERsSaYAMvQcAhyTRuXtoU8HAo1AUDARsKudjbOuFUq4qwWHiL94K////3/1/7FHjuSkUrdaDUqMgcJKMxtxpnYomkDiQGAsphygypblTWFXnc86/ce9utEMMxh//NExK0Q4IKUAMvMSIB3tY0o5S0ECe66kPpT+l1+lCb2N78MDBUXqQq3daX5P+furgClMAYKlyh1FiTW37ooWxbLK1RQmfhmU8UAcIIhOq2HRMCcAEKiQFXX5guLmOIY//NExLwRcLZgANvGTMGALinf+4xSWQUBeKW1f/ejmb1AmahxA0v//+bunlHUQFF+w/LYOv///4muIeptzhUeJxp5kkEYNCO3/v+3/zWaFJIL5IFB477DwG4jBAIYLzwW//NExMkRsIZAAVoQAAcgHUJAgiZ4smbuHpgCWRKzUM/k9Mmzs3Oanhl/7s9zN8IVl7m7OHxdpBCU93PDJ/Lhsf8/9/YZWRvpZ/WXXQMeX3rtwXbhBR7ajqYnanmjm9lB//NExNUh8ypgAZhAAH52jOEiYKDpuYCEIbWQAEgYE5KaLg+KhxIkA4CMIxWPqaeNDJtEBBA2hNHwoKCcDy6yNJ5AVfVF7AJSP575hJT6hTVjU////9sBgEMzv/6JU3cs//NExKAhsxaEAcZIAbx///1z/fpHEI6WZV9xz/q1P90g2rRKHqacDUPha9UHyPhw9ssMMOkb81ZbSPc+TRgfMXKhuzslHqNVgUaxJxY1ftgVF41IM+///Nf/3/qfJkZg//NExGwU2sqkABhQuT6P+Q0pEdqp//N5nQrIHI7pPsqa1tteAmDPDAWFdU6lww7TMYptAzUUdDpYGZuU3b/lzpY0NZCNQ0ssSe4MKVkXKEMHchiBYJjTu//0//9eKiKi//NExGsSgp6gAHhEuSdmZtTGNUoRERwPsC//cmKq423WdTJf5tqmid6DsVTZZUrHOlNnqYiQyqGWZOiVVpgmEITOg0IrGdXzPyfTu2/ZmbIUaKgOLIKUa9zVOgwMiMLX//NExHQQmUaUAMCKcIp/hr///36wGXVOhNJl0Q2EFdX1FDXK1qN1MLJCANEXMARF5MHp0wQVgA5GNUrV/vb//7pEhFAUeKFId6TMdDmGDBEPCzN3Wbbb///9RE4AxR9///NExIQQuUKQAMnKcGWIvXoWLwl/S81QMiLOkOGGrR+Sr+7qa0iBix+TR9sun5tdFosoxXOAIFQ7LdJtpHEorzKzWaf3S6//0///////RjkEBMLuWlFmtcY8gycZQ3FJ//NExJQQwU6QANCKlOAPhtGJkp5gtiqtz3D7UDHk0fffTt9fz/QS6gQMxFIhrLeqCR4mQ8rfY////+PSIzxpt47vuyyVoFyACI5Pyy5as5+R7Bl4WyrNXhiG888cN6vf//NExKQSIpKMANFEuFMf+76+v//rqrorgzF6elYc4w4UCK/NMe7//r7FThGwsbBUqloiTReqlQKmHKpKMY2RAZdNHMAVYmhkJvxCZmAAwBLWo/bg6WOszQk4YQKsDALw//NExK4P4VKIANFElPG/H9uUNZrr5j+OGmN2D0NHqPDQfUL2odFOosJQXh5TRdDjZ9aDqLX77vjrlHvq476/9f64aIIj+LmKmEX//jmtjmPn2WyB93/Jp5ieOcd6+uyy//NExMERIUqEAVkQANA+ULQqEJjro9uAqFNy8LNAuI2uLewAu6FQy5M4wJMZ+YCZ071qrS4+hgICM6hQE1f+/UvQzqUS/yPp/////+RiU7wVHhqVDYKnYlWGqlMpxDV4//NExM8gCx54AZtAABzK1D1S42pizdGHrWeZTD0J1yt2EjrhVzQYEJKXFUBMOAqXcJS2siRGB46radS0qd/QpZjU/Y9sJ2KK6LeNG/fpETbMUiYQoBUKCgVQMeRKSZIt//NExKESEP44AdgQABDCgFgwkEKCjBnDR3JBQKhIeMUVSVIFiQdDR1jceMHjFDwFWAipEk08dt+utaiqSTWNPO/+lFUAoLB8oRlC5QPjIeGyA9SWeWvEiJxZRTs7PLJZ//NExKsRgIYEAHmMSH5f/NZZP2WAwVNNNNFV+VW/tNF+VVU0000VX/7f///8qpt/aKlMQU1FMy4xMDBVVVVVVVVVVVVVVVVVVVVVVVVVVVVVVVVVVVVVVVVVTEFNRTMu//NExLgSCInoAEmETDEwMFVVVVVVVVVVVVVVVVVVVVVVVVVVVVVVVVVVVVVVVVVVVVVVVVVVVVVVVVVVVVVVVVVVVVVVVVVVVVVVVVVVVVVVVVVVVVVVVVVVTEFNRTMu//NExMIQMP08AEmGcTEwMFVVVVVVVVVVVVVVVVVVVVVVVVVVVVVVVVVVVVVVVVVVVVVVVVVVVVVVVVVVVVVVVVVVVVVVVVVVVVVVVVVVVVVVVVVVVVVVVVVVTEFNRTMu//NExKwAAANIAAAAADEwMFVVVVVVVVVVVVVVVVVVVVVVVVVVVVVVVVVVVVVVVVVVVVVVVVVVVVVVVVVVVVVVVVVVVVVVVVVVVVVVVVVVVVVVVVVVVVVVVVVVTEFNRTMu//NExKwAAANIAAAAADEwMFVVVVVVVVVVVVVVVVVVVVVVVVVVVVVVVVVVVVVVVVVVVVVVVVVVVVVVVVVVVVVVVVVVVVVVVVVVVVVVVVVVVVVVVVVVVVVVVVVVTEFNRTMu//NExKwAAANIAAAAADEwMFVVVVVVVVVVVVVVVVVVVVVVVVVVVVVVVVVVVVVVVVVVVVVVVVVVVVVVVVVVVVVVVVVVVVVVVVVVVVVVVVVVVVVVVVVVVVVVVVVVTEFNRTMu//NExKwAAANIAAAAADEwMFVVVVVVVVVVVVVVVVVVVVVVVVVVVVVVVVVVVVVVVVVVVVVVVVVVVVVVVVVVVVVVVVVVVVVVVVVVVVVVVVVVVVVVVVVVVVVVVVVVTEFNRTMu//NExKwAAANIAAAAADEwMFVVVVVVVVVVVVVVVVVVVVVVVVVVVVVVVVVVVVVVVVVVVVVVVVVVVVVVVVVVVVVVVVVVVVVVVVVVVVVVVVVVVVVVVVVVVVVVVVVVTEFNRTMu//NExKwAAANIAAAAADEwMFVVVVVVVVVVVVVVVVVVVVVVVVVVVVVVVVVVVVVVVVVVVVVVVVVVVVVVVVVVVVVVVVVVVVVVVVVVVVVVVVVVVVVVVVVVVVVVVVVVVVVVVVVV//NExKwAAANIAAAAAFVVVVVVVVVVVVVVVVVVVVVVVVVVVVVVVVVVVVVVVVVVVVVVVVVVVVVVVVVVVVVVVVVVVVVVVVVVVVVVVVVVVVVVVVVVVVVVVVVVVVVVVVVVVVVV//NExKwAAANIAAAAAFVVVVVVVVVVVVVVVVVVVVVVVVVVVVVVVVVVVVVVVVVVVVVVVVVVVVVVVVVVVVVVVVVVVVVVVVVVVVVVVVVVVVVVVVVVVVVVVVVVVVVVVVVVVVVV\" type=\"audio/mpeg\" />\n",
              "                    Your browser does not support the audio element.\n",
              "                </audio>\n",
              "              "
            ]
          },
          "metadata": {}
        }
      ],
      "source": [
        "import gradio as gr\n",
        "import whisper\n",
        "from gtts import gTTS\n",
        "import IPython.display as ipd\n",
        "from bardapi import Bard\n",
        "import os\n",
        "import re\n",
        "\n",
        "model = whisper.load_model(\"base\")\n",
        "\n",
        "def extract_arabic_text(paragraph):\n",
        "    lines = paragraph.split('\\n')\n",
        "    arabic_texts = []\n",
        "    for line in lines:\n",
        "        arabic_text = re.findall(r'[\\u0600-\\u06FF]+', line)\n",
        "        if arabic_text:\n",
        "            arabic_texts.append(' '.join(arabic_text))\n",
        "    return arabic_texts\n",
        "\n",
        "\n",
        "\n",
        "\n",
        "def transcribe(audio):\n",
        "    # load audio and pad/trim it to fit 30 seconds\n",
        "    audio = whisper.load_audio(audio)\n",
        "    audio = whisper.pad_or_trim(audio)\n",
        "\n",
        "    # make log-Mel spectrogram and move to the same device as the model\n",
        "    mel = whisper.log_mel_spectrogram(audio).to(model.device)\n",
        "\n",
        "    # detect the spoken language\n",
        "    _, probs = model.detect_language(mel)\n",
        "    print(f\"Detected language: {max(probs, key=probs.get)}\")\n",
        "\n",
        "    # decode the audio\n",
        "    options = whisper.DecodingOptions(fp16=False)\n",
        "    result = whisper.decode(model, mel, options)\n",
        "\n",
        "    # Join the elements of the result list to make it a single string\n",
        "    text = \"\".join(result.text)\n",
        "    print(text)\n",
        "    os.environ[\"_BARD_API_KEY\"] = \"ZQhbscoXZvMHJSN9c5o3zEVvpm_UdE-segC1PwixGuIUYJ_zFjgnNCfzglUCVSXwhFnGBQ.\"\n",
        "    ar = f\"translate \\\" '{text}' \\\" to darija moroccan with arabic letters \"\n",
        "    at = Bard().get_answer(str(ar))['content']\n",
        "    generated_text2 = extract_arabic_text(at)\n",
        "    # Convert the list back to a string for gTTS\n",
        "    generated_text2 = generated_text2[0]\n",
        "    tts = gTTS(text=generated_text2, lang=\"ar\")\n",
        "    tts.save(\"darija_speech.mp3\")\n",
        "    ipd.display(ipd.Audio(\"darija_speech.mp3\"))\n",
        "    return generated_text2\n",
        "\n",
        "gr.Interface(\n",
        "    title='speech english to darija voice :) <3 ',\n",
        "    description=\"GALT LIK DIHA L WAD\",\n",
        "    fn=transcribe,\n",
        "    inputs=[\n",
        "        gr.inputs.Audio(source=\"microphone\", type=\"filepath\")\n",
        "    ],\n",
        "    outputs=[\n",
        "        \"textbox\"\n",
        "    ],\n",
        "    live=True).launch(debug=True)\n"
      ]
    },
    {
      "cell_type": "markdown",
      "metadata": {
        "id": "u9K9r4JAxLiG"
      },
      "source": []
    },
    {
      "cell_type": "code",
      "execution_count": null,
      "metadata": {
        "id": "UK4LWJmNMbvr"
      },
      "outputs": [],
      "source": []
    }
  ],
  "metadata": {
    "accelerator": "GPU",
    "colab": {
      "provenance": [],
      "authorship_tag": "ABX9TyO4uhXDwQwJlkrUsioMSXHm",
      "include_colab_link": true
    },
    "kernelspec": {
      "display_name": "Python 3",
      "name": "python3"
    },
    "language_info": {
      "name": "python"
    }
  },
  "nbformat": 4,
  "nbformat_minor": 0
}